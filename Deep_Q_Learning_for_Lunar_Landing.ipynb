{
  "cells": [
    {
      "cell_type": "markdown",
      "metadata": {
        "id": "view-in-github",
        "colab_type": "text"
      },
      "source": [
        "<a href=\"https://colab.research.google.com/github/Mohammed-Salman-Fadel/Q-Learning_AI_Environments/blob/main/Deep_Q_Learning_for_Lunar_Landing.ipynb\" target=\"_parent\"><img src=\"https://colab.research.google.com/assets/colab-badge.svg\" alt=\"Open In Colab\"/></a>"
      ]
    },
    {
      "cell_type": "markdown",
      "metadata": {
        "id": "LbZcI9ZXHl3a"
      },
      "source": [
        "# Deep Q-Learning for Lunar Landing"
      ]
    },
    {
      "cell_type": "markdown",
      "metadata": {
        "id": "E8yPRjteXgPb"
      },
      "source": [
        "## Part 0 - Installing the required packages and importing the libraries"
      ]
    },
    {
      "cell_type": "markdown",
      "metadata": {
        "id": "slEm5teGWjWU"
      },
      "source": [
        "### Installing Gymnasium"
      ]
    },
    {
      "cell_type": "code",
      "execution_count": null,
      "metadata": {
        "id": "dbnq3XpoKa_7",
        "colab": {
          "base_uri": "https://localhost:8080/"
        },
        "outputId": "16316ec7-a670-4ab3-96e7-7112a3ead334",
        "collapsed": true
      },
      "outputs": [
        {
          "output_type": "stream",
          "name": "stdout",
          "text": [
            "Requirement already satisfied: gymnasium in /usr/local/lib/python3.11/dist-packages (1.1.0)\n",
            "Requirement already satisfied: numpy>=1.21.0 in /usr/local/lib/python3.11/dist-packages (from gymnasium) (1.26.4)\n",
            "Requirement already satisfied: cloudpickle>=1.2.0 in /usr/local/lib/python3.11/dist-packages (from gymnasium) (3.1.1)\n",
            "Requirement already satisfied: typing-extensions>=4.3.0 in /usr/local/lib/python3.11/dist-packages (from gymnasium) (4.12.2)\n",
            "Requirement already satisfied: farama-notifications>=0.0.1 in /usr/local/lib/python3.11/dist-packages (from gymnasium) (0.0.4)\n",
            "\u001b[31mERROR: Operation cancelled by user\u001b[0m\u001b[31m\n",
            "\u001b[0mTraceback (most recent call last):\n",
            "  File \"/usr/local/lib/python3.11/dist-packages/pip/_internal/cli/base_command.py\", line 179, in exc_logging_wrapper\n",
            "    status = run_func(*args)\n",
            "             ^^^^^^^^^^^^^^^\n",
            "  File \"/usr/local/lib/python3.11/dist-packages/pip/_internal/cli/req_command.py\", line 67, in wrapper\n",
            "    return func(self, options, args)\n",
            "           ^^^^^^^^^^^^^^^^^^^^^^^^^\n",
            "  File \"/usr/local/lib/python3.11/dist-packages/pip/_internal/commands/install.py\", line 447, in run\n",
            "    conflicts = self._determine_conflicts(to_install)\n",
            "                ^^^^^^^^^^^^^^^^^^^^^^^^^^^^^^^^^^^^^\n",
            "  File \"/usr/local/lib/python3.11/dist-packages/pip/_internal/commands/install.py\", line 578, in _determine_conflicts\n",
            "    return check_install_conflicts(to_install)\n",
            "           ^^^^^^^^^^^^^^^^^^^^^^^^^^^^^^^^^^^\n",
            "  File \"/usr/local/lib/python3.11/dist-packages/pip/_internal/operations/check.py\", line 101, in check_install_conflicts\n",
            "    package_set, _ = create_package_set_from_installed()\n",
            "                     ^^^^^^^^^^^^^^^^^^^^^^^^^^^^^^^^^^^\n",
            "  File \"/usr/local/lib/python3.11/dist-packages/pip/_internal/operations/check.py\", line 39, in create_package_set_from_installed\n",
            "    for dist in env.iter_installed_distributions(local_only=False, skip=()):\n",
            "  File \"/usr/local/lib/python3.11/dist-packages/pip/_internal/metadata/base.py\", line 664, in <genexpr>\n",
            "    return (d for d in it if d.canonical_name not in skip)\n",
            "           ^^^^^^^^^^^^^^^^^^^^^^^^^^^^^^^^^^^^^^^^^^^^^^^\n",
            "  File \"/usr/local/lib/python3.11/dist-packages/pip/_internal/metadata/base.py\", line 612, in iter_all_distributions\n",
            "    for dist in self._iter_distributions():\n",
            "  File \"/usr/local/lib/python3.11/dist-packages/pip/_internal/metadata/importlib/_envs.py\", line 176, in _iter_distributions\n",
            "    yield from finder.find(location)\n",
            "  File \"/usr/local/lib/python3.11/dist-packages/pip/_internal/metadata/importlib/_envs.py\", line 79, in find\n",
            "    for dist, info_location in self._find_impl(location):\n",
            "  File \"/usr/local/lib/python3.11/dist-packages/pip/_internal/metadata/importlib/_envs.py\", line 64, in _find_impl\n",
            "    raw_name = get_dist_name(dist)\n",
            "               ^^^^^^^^^^^^^^^^^^^\n",
            "  File \"/usr/local/lib/python3.11/dist-packages/pip/_internal/metadata/importlib/_compat.py\", line 52, in get_dist_name\n",
            "    name = cast(Any, dist).name\n",
            "           ^^^^^^^^^^^^^^^^^^^^\n",
            "  File \"/usr/lib/python3.11/importlib/metadata/__init__.py\", line 622, in name\n",
            "    return self.metadata['Name']\n",
            "           ^^^^^^^^^^^^^\n",
            "  File \"/usr/lib/python3.11/importlib/metadata/__init__.py\", line 610, in metadata\n",
            "    self.read_text('METADATA')\n",
            "  File \"/usr/lib/python3.11/importlib/metadata/__init__.py\", line 939, in read_text\n",
            "    return self._path.joinpath(filename).read_text(encoding='utf-8')\n",
            "           ^^^^^^^^^^^^^^^^^^^^^^^^^^^^^^^^^^^^^^^^^^^^^^^^^^^^^^^^^\n",
            "  File \"/usr/lib/python3.11/pathlib.py\", line 1058, in read_text\n",
            "    with self.open(mode='r', encoding=encoding, errors=errors) as f:\n",
            "         ^^^^^^^^^^^^^^^^^^^^^^^^^^^^^^^^^^^^^^^^^^^^^^^^^^^^^\n",
            "  File \"/usr/lib/python3.11/pathlib.py\", line 1044, in open\n",
            "    return io.open(self, mode, buffering, encoding, errors, newline)\n",
            "           ^^^^^^^^^^^^^^^^^^^^^^^^^^^^^^^^^^^^^^^^^^^^^^^^^^^^^^^^^\n",
            "  File \"<frozen codecs>\", line 309, in __init__\n",
            "KeyboardInterrupt\n",
            "\n",
            "During handling of the above exception, another exception occurred:\n",
            "\n",
            "Traceback (most recent call last):\n",
            "  File \"/usr/local/bin/pip3\", line 10, in <module>\n",
            "    sys.exit(main())\n",
            "             ^^^^^^\n",
            "  File \"/usr/local/lib/python3.11/dist-packages/pip/_internal/cli/main.py\", line 80, in main\n",
            "    return command.main(cmd_args)\n",
            "           ^^^^^^^^^^^^^^^^^^^^^^\n",
            "  File \"/usr/local/lib/python3.11/dist-packages/pip/_internal/cli/base_command.py\", line 100, in main\n",
            "    return self._main(args)\n",
            "           ^^^^^^^^^^^^^^^^\n",
            "  File \"/usr/local/lib/python3.11/dist-packages/pip/_internal/cli/base_command.py\", line 232, in _main\n",
            "    return run(options, args)\n",
            "           ^^^^^^^^^^^^^^^^^^\n",
            "  File \"/usr/local/lib/python3.11/dist-packages/pip/_internal/cli/base_command.py\", line 215, in exc_logging_wrapper\n",
            "    logger.critical(\"Operation cancelled by user\")\n",
            "  File \"/usr/lib/python3.11/logging/__init__.py\", line 1536, in critical\n",
            "    self._log(CRITICAL, msg, args, **kwargs)\n",
            "  File \"/usr/lib/python3.11/logging/__init__.py\", line 1634, in _log\n",
            "    self.handle(record)\n",
            "  File \"/usr/lib/python3.11/logging/__init__.py\", line 1644, in handle\n",
            "    self.callHandlers(record)\n",
            "  File \"/usr/lib/python3.11/logging/__init__.py\", line 1706, in callHandlers\n",
            "    hdlr.handle(record)\n",
            "  File \"/usr/lib/python3.11/logging/__init__.py\", line 978, in handle\n",
            "    self.emit(record)\n",
            "  File \"/usr/local/lib/python3.11/dist-packages/pip/_internal/utils/logging.py\", line 177, in emit\n",
            "    self.console.print(renderable, overflow=\"ignore\", crop=False, style=style)\n",
            "  File \"/usr/local/lib/python3.11/dist-packages/pip/_vendor/rich/console.py\", line 1673, in print\n",
            "    with self:\n",
            "  File \"/usr/local/lib/python3.11/dist-packages/pip/_vendor/rich/console.py\", line 865, in __exit__\n",
            "    self._exit_buffer()\n",
            "  File \"/usr/local/lib/python3.11/dist-packages/pip/_vendor/rich/console.py\", line 823, in _exit_buffer\n",
            "    self._check_buffer()\n",
            "  File \"/usr/local/lib/python3.11/dist-packages/pip/_vendor/rich/console.py\", line 2060, in _check_buffer\n",
            "    self.file.write(text)\n",
            "KeyboardInterrupt\n",
            "^C\n",
            "Requirement already satisfied: gymnasium[accept-rom-license,atari] in /usr/local/lib/python3.11/dist-packages (1.1.0)\n",
            "\u001b[33mWARNING: gymnasium 1.1.0 does not provide the extra 'accept-rom-license'\u001b[0m\u001b[33m\n",
            "\u001b[0mRequirement already satisfied: numpy>=1.21.0 in /usr/local/lib/python3.11/dist-packages (from gymnasium[accept-rom-license,atari]) (1.26.4)\n",
            "Requirement already satisfied: cloudpickle>=1.2.0 in /usr/local/lib/python3.11/dist-packages (from gymnasium[accept-rom-license,atari]) (3.1.1)\n",
            "Requirement already satisfied: typing-extensions>=4.3.0 in /usr/local/lib/python3.11/dist-packages (from gymnasium[accept-rom-license,atari]) (4.12.2)\n",
            "Requirement already satisfied: farama-notifications>=0.0.1 in /usr/local/lib/python3.11/dist-packages (from gymnasium[accept-rom-license,atari]) (0.0.4)\n",
            "Requirement already satisfied: ale_py>=0.9 in /usr/local/lib/python3.11/dist-packages (from gymnasium[accept-rom-license,atari]) (0.10.2)\n",
            "Reading package lists... Done\n",
            "Building dependency tree... Done\n",
            "Reading state information... Done\n",
            "The following additional packages will be installed:\n",
            "  swig4.0\n",
            "Suggested packages:\n",
            "  swig-doc swig-examples swig4.0-examples swig4.0-doc\n",
            "The following NEW packages will be installed:\n",
            "  swig swig4.0\n",
            "0 upgraded, 2 newly installed, 0 to remove and 29 not upgraded.\n",
            "Need to get 1,116 kB of archives.\n",
            "After this operation, 5,542 kB of additional disk space will be used.\n",
            "Get:1 http://archive.ubuntu.com/ubuntu jammy/universe amd64 swig4.0 amd64 4.0.2-1ubuntu1 [1,110 kB]\n",
            "Get:2 http://archive.ubuntu.com/ubuntu jammy/universe amd64 swig all 4.0.2-1ubuntu1 [5,632 B]\n",
            "Fetched 1,116 kB in 1s (819 kB/s)\n",
            "Selecting previously unselected package swig4.0.\n",
            "(Reading database ... 124947 files and directories currently installed.)\n",
            "Preparing to unpack .../swig4.0_4.0.2-1ubuntu1_amd64.deb ...\n",
            "Unpacking swig4.0 (4.0.2-1ubuntu1) ...\n",
            "Selecting previously unselected package swig.\n",
            "Preparing to unpack .../swig_4.0.2-1ubuntu1_all.deb ...\n",
            "Unpacking swig (4.0.2-1ubuntu1) ...\n",
            "Setting up swig4.0 (4.0.2-1ubuntu1) ...\n",
            "Setting up swig (4.0.2-1ubuntu1) ...\n",
            "Processing triggers for man-db (2.10.2-1) ...\n",
            "Requirement already satisfied: gymnasium[box2d] in /usr/local/lib/python3.11/dist-packages (1.1.0)\n",
            "Requirement already satisfied: numpy>=1.21.0 in /usr/local/lib/python3.11/dist-packages (from gymnasium[box2d]) (1.26.4)\n",
            "Requirement already satisfied: cloudpickle>=1.2.0 in /usr/local/lib/python3.11/dist-packages (from gymnasium[box2d]) (3.1.1)\n",
            "Requirement already satisfied: typing-extensions>=4.3.0 in /usr/local/lib/python3.11/dist-packages (from gymnasium[box2d]) (4.12.2)\n",
            "Requirement already satisfied: farama-notifications>=0.0.1 in /usr/local/lib/python3.11/dist-packages (from gymnasium[box2d]) (0.0.4)\n",
            "Collecting box2d-py==2.3.5 (from gymnasium[box2d])\n",
            "  Downloading box2d-py-2.3.5.tar.gz (374 kB)\n",
            "\u001b[2K     \u001b[90m━━━━━━━━━━━━━━━━━━━━━━━━━━━━━━━━━━━━━━━━\u001b[0m \u001b[32m374.4/374.4 kB\u001b[0m \u001b[31m8.9 MB/s\u001b[0m eta \u001b[36m0:00:00\u001b[0m\n",
            "\u001b[?25h  Preparing metadata (setup.py) ... \u001b[?25l\u001b[?25hdone\n",
            "Requirement already satisfied: pygame>=2.1.3 in /usr/local/lib/python3.11/dist-packages (from gymnasium[box2d]) (2.6.1)\n",
            "Collecting swig==4.* (from gymnasium[box2d])\n",
            "  Downloading swig-4.3.0-py2.py3-none-manylinux_2_5_x86_64.manylinux1_x86_64.whl.metadata (3.5 kB)\n",
            "Downloading swig-4.3.0-py2.py3-none-manylinux_2_5_x86_64.manylinux1_x86_64.whl (1.9 MB)\n",
            "\u001b[2K   \u001b[90m━━━━━━━━━━━━━━━━━━━━━━━━━━━━━━━━━━━━━━━━\u001b[0m \u001b[32m1.9/1.9 MB\u001b[0m \u001b[31m60.1 MB/s\u001b[0m eta \u001b[36m0:00:00\u001b[0m\n",
            "\u001b[?25hBuilding wheels for collected packages: box2d-py\n",
            "  Building wheel for box2d-py (setup.py) ... \u001b[?25l\u001b[?25hdone\n",
            "  Created wheel for box2d-py: filename=box2d_py-2.3.5-cp311-cp311-linux_x86_64.whl size=2351228 sha256=5191f53ec1d62efb1849d4421888834598038546d67b4774480e039f928f43de\n",
            "  Stored in directory: /root/.cache/pip/wheels/ab/f1/0c/d56f4a2bdd12bae0a0693ec33f2f0daadb5eb9753c78fa5308\n",
            "Successfully built box2d-py\n",
            "Installing collected packages: swig, box2d-py\n",
            "Successfully installed box2d-py-2.3.5 swig-4.3.0\n"
          ]
        }
      ],
      "source": [
        "!pip install gymnasium\n",
        "!pip install \"gymnasium[atari, accept-rom-license]\"\n",
        "!apt-get install -y swig\n",
        "!pip install gymnasium[box2d]"
      ]
    },
    {
      "cell_type": "markdown",
      "metadata": {
        "id": "brqiMN3UW9T9"
      },
      "source": [
        "### Importing the libraries"
      ]
    },
    {
      "cell_type": "code",
      "execution_count": null,
      "metadata": {
        "id": "mZaKXP_aMl9O"
      },
      "outputs": [],
      "source": [
        "import os\n",
        "import random\n",
        "import numpy as np\n",
        "import torch\n",
        "import torch.nn as nn\n",
        "import torch.optim as optim\n",
        "import torch.nn.functional as F\n",
        "import torch.autograd as autograd\n",
        "from torch.autograd import Variable\n",
        "from collections import deque, namedtuple"
      ]
    },
    {
      "cell_type": "markdown",
      "metadata": {
        "id": "EzlDKXvkXzGI"
      },
      "source": [
        "## Part 1 - Building the AI"
      ]
    },
    {
      "cell_type": "markdown",
      "metadata": {
        "id": "UtG6Zc83YYy3"
      },
      "source": [
        "### Creating the architecture of the Neural Network"
      ]
    },
    {
      "cell_type": "code",
      "source": [
        "class Network(nn.Module):\n",
        "  def __init__(self, state_size, action_size, seed = 42) -> None:\n",
        "      super(Network, self).__init__()\n",
        "      self.seed = torch.manual_seed(seed)\n",
        "      self.fc1 = nn.Linear(state_size, 64) #Fully connected layer connecting state_size to 64 neurons.\n",
        "      self.fc2 = nn.Linear(64, 64) #Fully connected layer previous 64 neurons to next 64 neurons.\n",
        "      self.fc3 = nn.Linear(64, action_size) #Fully connected layer connecting last neurons layer to action_size or output layer.\n",
        "\n",
        "  def forward(self, state):\n",
        "    x = self.fc1(state)\n",
        "    x = F.relu(x)\n",
        "    x = self.fc2(x)\n",
        "    x = F.relu(x)\n",
        "    return self.fc3(x)"
      ],
      "metadata": {
        "id": "aHUXnPOu3ZRR"
      },
      "execution_count": null,
      "outputs": []
    },
    {
      "cell_type": "markdown",
      "metadata": {
        "id": "UxVrBnFWZKb1"
      },
      "source": [
        "## Part 2 - Training the AI"
      ]
    },
    {
      "cell_type": "markdown",
      "metadata": {
        "id": "T364fz9qZb2j"
      },
      "source": [
        "### Setting up the environment"
      ]
    },
    {
      "cell_type": "code",
      "source": [
        "import gymnasium as gym\n",
        "env = gym.make('LunarLander-v3')\n",
        "state_shape = env.observation_space.shape\n",
        "state_size = env.observation_space.shape[0]\n",
        "number_actions = env.action_space.n\n"
      ],
      "metadata": {
        "id": "RLJD7oRz7EEv"
      },
      "execution_count": null,
      "outputs": []
    },
    {
      "cell_type": "markdown",
      "metadata": {
        "id": "c_dZmOIvZgj-"
      },
      "source": [
        "### Initializing the hyperparameters"
      ]
    },
    {
      "cell_type": "code",
      "source": [
        "learning_rate = 5e-4\n",
        "minibatch_size = 100\n",
        "discount_factor = 0.99\n",
        "replay_buffer_size = int(1e5)\n",
        "interpolation_parameter = 1e-3 # tao"
      ],
      "metadata": {
        "id": "cwMoI4h7_9cf"
      },
      "execution_count": null,
      "outputs": []
    },
    {
      "cell_type": "markdown",
      "metadata": {
        "id": "8hD_Vs-bYnip"
      },
      "source": [
        "### Implementing Experience Replay"
      ]
    },
    {
      "cell_type": "code",
      "source": [
        "class ReplayMemory(object):\n",
        "  def __init__(self, capacity) -> None:\n",
        "     self.device = torch.device(\"cuda:0\" if torch.cuda.is_available() else 'cpu')\n",
        "     self.capacity = capacity\n",
        "     self.memory = []\n",
        "\n",
        "  def push(self, event) -> None:\n",
        "    self.memory.append(event)\n",
        "    if len(self.memory) > self.capacity:\n",
        "      del self.memory[0]\n",
        "\n",
        "  def sample(self, batch_size):\n",
        "    experiences = random.sample(self.memory, k = batch_size)\n",
        "    states = torch.from_numpy(np.vstack([e[0] for e in experiences if e is not None])).float().to(self.device) # Converts numpy array to pytorch tensor\n",
        "    actions = torch.from_numpy(np.vstack([e[1] for e in experiences if e is not None])).long().to(self.device)\n",
        "    rewards = torch.from_numpy(np.vstack([e[2] for e in experiences if e is not None])).float().to(self.device)\n",
        "    next_states = torch.from_numpy(np.vstack([e[3] for e in experiences if e is not None])).float().to(self.device)\n",
        "    dones = torch.from_numpy(np.vstack([e[4] for e in experiences if e is not None]).astype(np.uint8)).float().to(self.device) # uint 8 is the type that converts a boolean to a tensor\n",
        "    return states, next_states, actions, rewards, dones"
      ],
      "metadata": {
        "id": "E1XgvnVOWP7u"
      },
      "execution_count": null,
      "outputs": []
    },
    {
      "cell_type": "markdown",
      "metadata": {
        "id": "JmEkbFbUY6Jt"
      },
      "source": [
        "### Implementing the DQN class"
      ]
    },
    {
      "cell_type": "code",
      "source": [
        "class Agent():\n",
        "  def __init__(self, state_size, action_size) -> None:\n",
        "    self.device = torch.device(\"cuda:0\" if torch.cuda.is_available() else 'cpu')\n",
        "    self.state_size = state_size\n",
        "    self.action_size = action_size\n",
        "    self.local_qnetwork = Network(state_size, action_size).to(self.device)\n",
        "    self.target_qnetwork = Network(state_size, action_size).to(self.device)\n",
        "    self.optimizer = optim.Adam(self.local_qnetwork.parameters(), lr = learning_rate)\n",
        "    self.memory = ReplayMemory(replay_buffer_size)\n",
        "    self.t_step = 0\n",
        "\n",
        "  def step(self, state, action, reward, next_state, done):\n",
        "    self.memory.push((state, action, reward, next_state, done))\n",
        "    self.t_step = (self.t_step + 1) % 4\n",
        "    if self.t_step == 0:\n",
        "      if len(self.memory.memory) > minibatch_size: # Instance of memory class -> memory attribute of class\n",
        "        experiences = self.memory.sample(100)\n",
        "        self.learn(experiences, discount_factor)\n",
        "\n",
        "  def act(self, state, epsilon = 0.):\n",
        "    state = torch.from_numpy(state).float().unsqueeze(0).to(self.device)\n",
        "    self.local_qnetwork.eval()\n",
        "    with torch.no_grad():\n",
        "      action_values = self.local_qnetwork(state)\n",
        "    self.local_qnetwork.train()\n",
        "    if random.random() > epsilon:\n",
        "      return np.argmax(action_values.cpu().data.numpy())\n",
        "    else:\n",
        "      return random.choice(np.arange(self.action_size))\n",
        "\n",
        "  def learn(self, experiences, discount_factor):\n",
        "    states, next_states, actions, rewards, dones = experiences\n",
        "    next_q_targets = self.target_qnetwork(next_states).detach().max(1)[0].unsqueeze(1)\n",
        "    q_targets = rewards + discount_factor * next_q_targets * (1 - dones)\n",
        "    q_expected = self.local_qnetwork(states).gather(1, actions)\n",
        "    loss = F.mse_loss(q_expected, q_targets)\n",
        "    self.optimizer.zero_grad()\n",
        "    loss.backward()\n",
        "    self.optimizer.step()\n",
        "    self.soft_update(self.local_qnetwork, self.target_qnetwork, interpolation_parameter)\n",
        "\n",
        "  def soft_update(self, local_model, target_model, interpolation_parameter):\n",
        "    for target_param, local_param in zip(target_model.parameters(), local_model.parameters()):\n",
        "      target_param.data.copy_(interpolation_parameter * local_param.data + (1.0 - interpolation_parameter) * target_param.data)"
      ],
      "metadata": {
        "id": "UV3GoaVeZquf"
      },
      "execution_count": null,
      "outputs": []
    },
    {
      "cell_type": "markdown",
      "metadata": {
        "id": "o1tZElccZmf6"
      },
      "source": [
        "### Initializing the DQN agent"
      ]
    },
    {
      "cell_type": "code",
      "source": [
        "agent = Agent(state_size, number_actions)"
      ],
      "metadata": {
        "id": "5y1S9IN3fmuF"
      },
      "execution_count": null,
      "outputs": []
    },
    {
      "cell_type": "markdown",
      "metadata": {
        "id": "E8v0PtUfaVQp"
      },
      "source": [
        "### Training the DQN agent"
      ]
    },
    {
      "cell_type": "code",
      "source": [
        "number_episodes = 2000\n",
        "maximum_number_timesteps_per_episode = 1000\n",
        "epsilon_starting_value  = 1.0\n",
        "epsilon_ending_value  = 0.01\n",
        "epsilon_decay_value  = 0.995\n",
        "epsilon = epsilon_starting_value\n",
        "scores_on_100_episodes = deque(maxlen = 100)\n",
        "\n",
        "for episode in range(1, number_episodes + 1):\n",
        "  state, _ = env.reset()\n",
        "  score = 0\n",
        "  for t in range(maximum_number_timesteps_per_episode):\n",
        "    action = agent.act(state, epsilon)\n",
        "    next_state, reward, done, _, _ = env.step(action)\n",
        "    agent.step(state, action, reward, next_state, done)\n",
        "    state = next_state\n",
        "    score += reward\n",
        "    if done:\n",
        "      break\n",
        "  scores_on_100_episodes.append(score)\n",
        "  epsilon = max(epsilon_ending_value, epsilon_decay_value * epsilon)\n",
        "  print('\\rEpisode {}\\tAverage Score: {:.2f}'.format(episode, np.mean(scores_on_100_episodes)), end = \"\")\n",
        "  if episode % 100 == 0:\n",
        "    print('\\rEpisode {}\\tAverage Score: {:.2f}'.format(episode, np.mean(scores_on_100_episodes)))\n",
        "  if np.mean(scores_on_100_episodes) >= 200.0:\n",
        "    print('\\nEnvironment solved in {:d} episodes!\\tAverage Score: {:.2f}'.format(episode - 100, np.mean(scores_on_100_episodes)))\n",
        "    torch.save(agent.local_qnetwork.state_dict(), 'checkpoint.pth')\n",
        "    break"
      ],
      "metadata": {
        "colab": {
          "base_uri": "https://localhost:8080/"
        },
        "id": "llsSSG5UfrQJ",
        "outputId": "b3cd634d-54f4-4449-ffd6-cf76d126c65e"
      },
      "execution_count": null,
      "outputs": [
        {
          "output_type": "stream",
          "name": "stdout",
          "text": [
            "Episode 100\tAverage Score: -160.59\n",
            "Episode 200\tAverage Score: -98.35\n",
            "Episode 300\tAverage Score: -66.97\n",
            "Episode 400\tAverage Score: -41.40\n",
            "Episode 500\tAverage Score: -25.45\n",
            "Episode 600\tAverage Score: -2.60\n",
            "Episode 700\tAverage Score: 24.36\n",
            "Episode 800\tAverage Score: 186.76\n",
            "Episode 816\tAverage Score: 200.42\n",
            "Environment solved in 716 episodes!\tAverage Score: 200.42\n"
          ]
        }
      ]
    },
    {
      "cell_type": "markdown",
      "metadata": {
        "id": "O8CNwdOTcCoP"
      },
      "source": [
        "## Part 3 - Visualizing the results"
      ]
    },
    {
      "cell_type": "code",
      "execution_count": null,
      "metadata": {
        "id": "cb9nVvU2Okhk",
        "colab": {
          "base_uri": "https://localhost:8080/",
          "height": 459
        },
        "outputId": "7563c4e6-08e1-4e55-fc16-9ff827725ec0"
      },
      "outputs": [
        {
          "output_type": "stream",
          "name": "stderr",
          "text": [
            "WARNING:imageio_ffmpeg:IMAGEIO FFMPEG_WRITER WARNING: input image is not divisible by macro_block_size=16, resizing from (600, 400) to (608, 400) to ensure video compatibility with most codecs and players. To prevent resizing, make your input image divisible by the macro_block_size or set the macro_block_size to 1 (risking incompatibility).\n"
          ]
        },
        {
          "output_type": "display_data",
          "data": {
            "text/plain": [
              "<IPython.core.display.HTML object>"
            ],
            "text/html": [
              "<video alt=\"test\" autoplay\n",
              "                loop controls style=\"height: 400px;\">\n",
              "                <source src=\"data:video/mp4;base64,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\" type=\"video/mp4\" />\n",
              "             </video>"
            ]
          },
          "metadata": {}
        }
      ],
      "source": [
        "import glob\n",
        "import io\n",
        "import base64\n",
        "import imageio\n",
        "from IPython.display import HTML, display\n",
        "from gym.wrappers.monitoring.video_recorder import VideoRecorder\n",
        "\n",
        "def show_video_of_model(agent, env_name):\n",
        "    env = gym.make(env_name, render_mode='rgb_array')\n",
        "    state, _ = env.reset()\n",
        "    done = False\n",
        "    frames = []\n",
        "    while not done:\n",
        "        frame = env.render()\n",
        "        frames.append(frame)\n",
        "        action = agent.act(state)\n",
        "        state, reward, done, _, _ = env.step(action.item())\n",
        "    env.close()\n",
        "    imageio.mimsave('video.mp4', frames, fps=30)\n",
        "\n",
        "show_video_of_model(agent, 'LunarLander-v3')\n",
        "\n",
        "def show_video():\n",
        "    mp4list = glob.glob('*.mp4')\n",
        "    if len(mp4list) > 0:\n",
        "        mp4 = mp4list[0]\n",
        "        video = io.open(mp4, 'r+b').read()\n",
        "        encoded = base64.b64encode(video)\n",
        "        display(HTML(data='''<video alt=\"test\" autoplay\n",
        "                loop controls style=\"height: 400px;\">\n",
        "                <source src=\"data:video/mp4;base64,{0}\" type=\"video/mp4\" />\n",
        "             </video>'''.format(encoded.decode('ascii'))))\n",
        "    else:\n",
        "        print(\"Could not find video\")\n",
        "\n",
        "show_video()"
      ]
    }
  ],
  "metadata": {
    "colab": {
      "provenance": [],
      "gpuType": "T4",
      "include_colab_link": true
    },
    "kernelspec": {
      "display_name": "Python 3",
      "name": "python3"
    },
    "language_info": {
      "name": "python"
    },
    "accelerator": "GPU"
  },
  "nbformat": 4,
  "nbformat_minor": 0
}